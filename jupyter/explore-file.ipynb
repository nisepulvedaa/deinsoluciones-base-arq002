{
 "cells": [
  {
   "cell_type": "code",
   "execution_count": null,
   "id": "feec0a15",
   "metadata": {
    "vscode": {
     "languageId": "plaintext"
    }
   },
   "outputs": [],
   "source": [
    "import pandas as pd\n",
    "import pyarrow.parquet as pq\n",
    "\n",
    "# 📌 Ruta del archivo Parquet\n",
    "parquet_path = \"\"\n",
    "\n",
    "\n",
    "# 📥 Leer archivo\n",
    "df = pd.read_parquet(parquet_path)\n",
    "\n",
    "# 🔍 Configurar pandas para mostrar todo sin truncar\n",
    "pd.set_option('display.max_colwidth', None)  # sin límite de ancho\n",
    "pd.set_option('display.max_columns', None)   # mostrar todas las columnas\n",
    "pd.set_option('display.expand_frame_repr', False)  # evita corte en filas largas\n",
    "\n",
    "# 🖨️ Mostrar primeras 5 filas\n",
    "print(\"\\n🔎 Primeros 5 registros:\")\n",
    "display(df.head(5))\n",
    "\n",
    "# 📥 Leer el archivo Parquet y extraer esquema\n",
    "print(\"📊 Esquema del Parquet:\")\n",
    "table = pq.read_table(parquet_path)\n",
    "schema = table.schema\n",
    "\n",
    "# 🧠 Imprimir esquema nativo\n",
    "print(\"📜 Esquema desde el archivo Parquet (pyarrow):\")\n",
    "print(schema)\n",
    "\n",
    "print(\"Cantidad de Registros: \", len(df))"
   ]
  }
 ],
 "metadata": {
  "language_info": {
   "name": "python"
  }
 },
 "nbformat": 4,
 "nbformat_minor": 5
}
